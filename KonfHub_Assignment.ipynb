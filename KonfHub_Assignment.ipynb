{
  "nbformat": 4,
  "nbformat_minor": 0,
  "metadata": {
    "colab": {
      "name": "KonfHub Assignment.ipynb",
      "provenance": [],
      "authorship_tag": "ABX9TyMl9mpzXelTkefVWtFrRmOa",
      "include_colab_link": true
    },
    "kernelspec": {
      "name": "python3",
      "display_name": "Python 3"
    }
  },
  "cells": [
    {
      "cell_type": "markdown",
      "metadata": {
        "id": "view-in-github",
        "colab_type": "text"
      },
      "source": [
        "<a href=\"https://colab.research.google.com/github/nehal0306/KonfHubAssignment/blob/master/KonfHub_Assignment.ipynb\" target=\"_parent\"><img src=\"https://colab.research.google.com/assets/colab-badge.svg\" alt=\"Open In Colab\"/></a>"
      ]
    },
    {
      "cell_type": "code",
      "metadata": {
        "id": "-Lu46O-bGvth",
        "colab_type": "code",
        "colab": {
          "base_uri": "https://localhost:8080/",
          "height": 129
        },
        "outputId": "626cfc1a-e388-4bb6-9ab5-23bfba98a6d8"
      },
      "source": [
        "from google.colab import drive\n",
        "drive.mount('/content/drive')"
      ],
      "execution_count": null,
      "outputs": [
        {
          "output_type": "stream",
          "text": [
            "Go to this URL in a browser: https://accounts.google.com/o/oauth2/auth?client_id=947318989803-6bn6qk8qdgf4n4g3pfee6491hc0brc4i.apps.googleusercontent.com&redirect_uri=urn%3aietf%3awg%3aoauth%3a2.0%3aoob&scope=email%20https%3a%2f%2fwww.googleapis.com%2fauth%2fdocs.test%20https%3a%2f%2fwww.googleapis.com%2fauth%2fdrive%20https%3a%2f%2fwww.googleapis.com%2fauth%2fdrive.photos.readonly%20https%3a%2f%2fwww.googleapis.com%2fauth%2fpeopleapi.readonly&response_type=code\n",
            "\n",
            "Enter your authorization code:\n",
            "··········\n",
            "Mounted at /content/drive\n"
          ],
          "name": "stdout"
        }
      ]
    },
    {
      "cell_type": "code",
      "metadata": {
        "id": "TKb5B_ndFQCq",
        "colab_type": "code",
        "colab": {}
      },
      "source": [
        "f= open(\"conference_details.csv\",\"w+\")"
      ],
      "execution_count": 123,
      "outputs": []
    },
    {
      "cell_type": "code",
      "metadata": {
        "id": "2Ebkuk8mHZ2p",
        "colab_type": "code",
        "colab": {}
      },
      "source": [
        "\n",
        "import requests\n",
        "import json\n",
        "\n",
        "resp = requests.get('https://o136z8hk40.execute-api.us-east-1.amazonaws.com/dev/get-list-of-conferences')\n",
        "data=json.loads(resp.text)\n",
        "if resp.status_code != 200:\n",
        "    raise ApiError('GET /get-list-of-conferences/ {}'.format(resp.status_code))\n"
      ],
      "execution_count": 114,
      "outputs": []
    },
    {
      "cell_type": "code",
      "metadata": {
        "id": "ddAVZYJP9DHk",
        "colab_type": "code",
        "colab": {}
      },
      "source": [
        "#free conferences\n",
        "for index in data['free']:\n",
        "  f.writelines(\"%s,%s,%s,%s,%s,%s,%s,%s,%s \\n\" % (index['confName'], index['confStartDate'], index['confEndDate'] , index['venue'], index['city'],index['state'] ,index['country'] ,index['entryType'], index['confRegUrl'] ))\n",
        "\n",
        "#paid conferenc\n",
        "for index in data['paid']:\n",
        "  f.write(\"%s,%s,%s,%s,%s,%s,%s,%s,%s \\n\" % (index['confName'], index['confStartDate'], index['confEndDate'] , index['venue'], index['city'],index['state'] ,index['country'] ,index['entryType'], index['confRegUrl'] ))\n",
        "\n",
        "f.close()"
      ],
      "execution_count": 125,
      "outputs": []
    },
    {
      "cell_type": "markdown",
      "metadata": {
        "id": "L_Fv4A0PZ0R5",
        "colab_type": "text"
      },
      "source": [
        "Finding exact duplicates"
      ]
    },
    {
      "cell_type": "code",
      "metadata": {
        "id": "EtsqeYSKuSA2",
        "colab_type": "code",
        "colab": {
          "base_uri": "https://localhost:8080/",
          "height": 36
        },
        "outputId": "0ab7a096-d424-4d51-d290-86aad05a6162"
      },
      "source": [
        "# finding exact duplicates\n",
        "seen=[]\n",
        "for x in data['paid']+data['free']:\n",
        " \n",
        "  if x in seen:\n",
        "    print(\"Exact Duplicate Conference: %s\" % x['confName'])\n",
        "  seen.append(x)\n"
      ],
      "execution_count": 126,
      "outputs": [
        {
          "output_type": "stream",
          "text": [
            "Exact Duplicate Conference: AWS Summit Mumbai\n"
          ],
          "name": "stdout"
        }
      ]
    },
    {
      "cell_type": "markdown",
      "metadata": {
        "id": "dqJVdflxof5d",
        "colab_type": "text"
      },
      "source": [
        "Identify Semantic Duplicates\n",
        "\n"
      ]
    },
    {
      "cell_type": "code",
      "metadata": {
        "id": "aSedsm4ft6E6",
        "colab_type": "code",
        "colab": {
          "base_uri": "https://localhost:8080/",
          "height": 1000
        },
        "outputId": "3e8abe46-b6ea-4618-af3a-ef40ff126d77"
      },
      "source": [
        "values=[]\n",
        "confDetails= {}\n",
        "\n",
        "for x in data['paid'] + data['free']:\n",
        "  if x['confName'] not in seen:\n",
        "    values = x['searchTerms'].split(\",\") + x['keywordSupport'].split(\",\")\n",
        "    confDetails[x['confName']]=values\n",
        "\n",
        "for conf in confDetails:\n",
        "  if(confDetails[conf]) in "
      ],
      "execution_count": 110,
      "outputs": [
        {
          "output_type": "stream",
          "text": [
            "Antarcticonf The Conference At The Edge Of The World\n",
            "Trion All India Bootcamp\n",
            "DELIVERY CONF \n",
            "AppSec California\n",
            "NDC Security 2020\n",
            "Machine Learning Developers\n",
            "NDC London 2020 \n",
            "Distributed Systems Conference \n",
            "Data Business Congress 2020\n",
            "Microsoft Lgnite The Tour Washington\n",
            "Alexa Community Day Bengaluru 2020\n",
            "ANNUAL INTERNATIONAL CONFERENCE On Data Science Machine Learning Blockchain Technology\n",
            "HR Tech\n",
            "Data Science Salon\n",
            "PHP UK Conference 2020 \n",
            "GraphQL Asia 2020\n",
            "DevOpsCon London 2020\n",
            "Software Architecture Conference\n",
            "PGConf India 2020\n",
            "QCon London\n",
            "GOTO Oslo 2020\n",
            "Devopsdays NYC 2020\n",
            "ScaleConf \n",
            "Namma Cloud Conference\n",
            " JavaScript Fwdays\n",
            "Agile India 2020\n",
            "DevOps Talks Conference Melbourne\n",
            "Devops Pro Europe 2020\n",
            "Dev Next\n",
            "Scale Summit\n",
            "Kubecon Cloudnative Europe\n",
            "WORLD'S ORIGINAL ANGULAR CONFERENCE\n",
            "DevOn Summit\n",
            "DevOpsDays Toronto 2020\n",
            "NDC Porto 2020\n",
            " DEVOPS 2020\n",
            "React Day\n",
            "Red Hat Summit 2020 \n",
            "DevOps Conference\n",
            "AWS Community Day\n",
            "MongoDB World 2020 \n",
            "Devopsdays Austin\n",
            "ABOVE CLOUDS 2020\n",
            "IcingaConf2020\n",
            "Ingram Micro Cloud Summit 2020 Cloud Summit\n",
            "Continuos Life Cycle London 2020\n",
            "J On The Beach\n",
            "IT Security Summit 2020 \n",
            "DevSecCon\n",
            "Newcrafts\n",
            "Agile Portugal \n",
            "ChefConf 2020\n",
            "Agile Devops West A Techwell Event\n",
            "Portland 2020\n",
            "Craft Conference\n",
            "FlOW\n",
            "QCon\n",
            "DockerCon\n",
            "Internet Of Things Conference 2020\n",
            "Machine Learning Conference\n",
            "Bareos\n",
            "DevOps Enterprise Summit\n",
            "DevOps India Summit\n",
            "MongoDB Local Houston 2019 \n",
            "IoTShow.in\n",
            "Title of conf\n",
            "self.conference\n",
            "Open UP Global Summit 2020\n",
            "Car Summit\n",
            "Conversational Interaction Conference\n",
            "Speech Tek\n",
            "One Voice Conference\n",
            "Voice of Healthcare Summit\n",
            "Frontend Developer Love\n",
            "JSConf Mexico\n",
            "Smart Commerce 2020\n",
            "Business of BOTS\n",
            "Alexa Community Day\n",
            "Byteconf GraphQL 2020\n",
            "The Global Women in Data Science Hyderabad\n",
            "collision\n",
            "ng-India\n",
            "Serverless Architecture Conference\n",
            "Voxxed Days Singapore 2020\n",
            "SuperBot 2020\n",
            "DSConf 2020\n",
            "Doppa 2020\n",
            "Google Cloud Next\n",
            "AWS Summit Mumbai\n",
            "IUI 2020\n",
            "Security Architecture Conference\n",
            "HashiConf US\n",
            "HashiConf EU\n",
            "HashiDays \n",
            "Scrum Day Chennai \n",
            "JuliaCon 2020 \n",
            "REFACTOR 2020: Serverless \n",
            "GraphQL Summit \n",
            "React Day Norway\n",
            "Cloud Native Security Day\n",
            "AWS Innovate Online Conference\n",
            "Redis Day Bangalore\n",
            "WineWorks\n",
            "International Conference On Internet Of Things Big Data Analytics And Information Technology\n",
            "International Conference On Big Data IoT Cyber Security And Information Technology\n",
            "ChiBrrCon 2020\n",
            "DATACLOUD INDIA 2020\n",
            "NIC 20 20 Vision Edition\n",
            "PyCascades 2020\n",
            "BSidesSF 2020\n",
            "PyTennessee 2020\n",
            "WeRockIT Developers Conference 2020\n",
            " Connectaha 2020\n",
            "DevOpsDays Vancouver 2020\n",
            "Microsoft Ignite The Tour 2019 2020\n",
            " NET Fwdays\n",
            "403 Forbidden\n",
            " PHP Fwdays\n",
            "Devopscon\n",
            "Amazon Alexa VOICE\n",
            "Voice Meetup: what3words edition with Speechmatics | Meetup\n",
            "Cambridge Alexa Developers Meetup\n",
            "Amazon Alexa Paris\n",
            "Women in Data Science Pune Conference\n",
            "MATLAB EXPO 2020 India\n"
          ],
          "name": "stdout"
        }
      ]
    },
    {
      "cell_type": "code",
      "metadata": {
        "id": "7-Q923DOJj5C",
        "colab_type": "code",
        "colab": {}
      },
      "source": [
        "import nltk\n",
        "nltk.download('punkt')\n",
        "import tokenize\n",
        "for x in data['paid'] + data['free']:\n",
        "  result = json.dumps(x['confName'])\n",
        "  token = result.split(\" \")\n",
        "  for tk in token:\n",
        "    nltk_tokens = nltk.word_tokenize(tk)\n",
        "    print(nltk_tokens)\n",
        "\n"
      ],
      "execution_count": null,
      "outputs": []
    }
  ]
}