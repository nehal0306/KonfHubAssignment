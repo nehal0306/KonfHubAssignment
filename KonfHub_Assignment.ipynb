{
  "nbformat": 4,
  "nbformat_minor": 0,
  "metadata": {
    "colab": {
      "name": "KonfHub Assignment.ipynb",
      "provenance": [],
      "authorship_tag": "ABX9TyPG+5ZL5tNi9FuM37u8x096",
      "include_colab_link": true
    },
    "kernelspec": {
      "name": "python3",
      "display_name": "Python 3"
    }
  },
  "cells": [
    {
      "cell_type": "markdown",
      "metadata": {
        "id": "view-in-github",
        "colab_type": "text"
      },
      "source": [
        "<a href=\"https://colab.research.google.com/github/nehal0306/KonfHubAssignment/blob/master/KonfHub_Assignment.ipynb\" target=\"_parent\"><img src=\"https://colab.research.google.com/assets/colab-badge.svg\" alt=\"Open In Colab\"/></a>"
      ]
    },
    {
      "cell_type": "code",
      "metadata": {
        "id": "-Lu46O-bGvth",
        "colab_type": "code",
        "colab": {
          "base_uri": "https://localhost:8080/",
          "height": 129
        },
        "outputId": "626cfc1a-e388-4bb6-9ab5-23bfba98a6d8"
      },
      "source": [
        "from google.colab import drive\n",
        "drive.mount('/content/drive')"
      ],
      "execution_count": null,
      "outputs": [
        {
          "output_type": "stream",
          "text": [
            "Go to this URL in a browser: https://accounts.google.com/o/oauth2/auth?client_id=947318989803-6bn6qk8qdgf4n4g3pfee6491hc0brc4i.apps.googleusercontent.com&redirect_uri=urn%3aietf%3awg%3aoauth%3a2.0%3aoob&scope=email%20https%3a%2f%2fwww.googleapis.com%2fauth%2fdocs.test%20https%3a%2f%2fwww.googleapis.com%2fauth%2fdrive%20https%3a%2f%2fwww.googleapis.com%2fauth%2fdrive.photos.readonly%20https%3a%2f%2fwww.googleapis.com%2fauth%2fpeopleapi.readonly&response_type=code\n",
            "\n",
            "Enter your authorization code:\n",
            "··········\n",
            "Mounted at /content/drive\n"
          ],
          "name": "stdout"
        }
      ]
    },
    {
      "cell_type": "code",
      "metadata": {
        "id": "TKb5B_ndFQCq",
        "colab_type": "code",
        "colab": {}
      },
      "source": [
        "f= open(\"conference_details.csv\",\"w+\")"
      ],
      "execution_count": 123,
      "outputs": []
    },
    {
      "cell_type": "code",
      "metadata": {
        "id": "2Ebkuk8mHZ2p",
        "colab_type": "code",
        "colab": {}
      },
      "source": [
        "\n",
        "import requests\n",
        "import json\n",
        "\n",
        "resp = requests.get('https://o136z8hk40.execute-api.us-east-1.amazonaws.com/dev/get-list-of-conferences')\n",
        "data=json.loads(resp.text)\n",
        "if resp.status_code != 200:\n",
        "    raise ApiError('GET /get-list-of-conferences/ {}'.format(resp.status_code))\n"
      ],
      "execution_count": 114,
      "outputs": []
    },
    {
      "cell_type": "code",
      "metadata": {
        "id": "ddAVZYJP9DHk",
        "colab_type": "code",
        "colab": {}
      },
      "source": [
        "#free conferences\n",
        "for index in data['free']:\n",
        "  f.writelines(\"%s,%s,%s,%s,%s,%s,%s,%s,%s \\n\" % (index['confName'], index['confStartDate'], index['confEndDate'] , index['venue'], index['city'],index['state'] ,index['country'] ,index['entryType'], index['confRegUrl'] ))\n",
        "\n",
        "#paid conferenc\n",
        "for index in data['paid']:\n",
        "  f.write(\"%s,%s,%s,%s,%s,%s,%s,%s,%s \\n\" % (index['confName'], index['confStartDate'], index['confEndDate'] , index['venue'], index['city'],index['state'] ,index['country'] ,index['entryType'], index['confRegUrl'] ))\n",
        "\n",
        "f.close()"
      ],
      "execution_count": 125,
      "outputs": []
    },
    {
      "cell_type": "markdown",
      "metadata": {
        "id": "L_Fv4A0PZ0R5",
        "colab_type": "text"
      },
      "source": [
        "Finding exact duplicates"
      ]
    },
    {
      "cell_type": "code",
      "metadata": {
        "id": "EtsqeYSKuSA2",
        "colab_type": "code",
        "colab": {
          "base_uri": "https://localhost:8080/",
          "height": 36
        },
        "outputId": "0ab7a096-d424-4d51-d290-86aad05a6162"
      },
      "source": [
        "# finding exact duplicates\n",
        "seen=[]\n",
        "for x in data['paid']+data['free']:\n",
        " \n",
        "  if x in seen:\n",
        "    print(\"Exact Duplicate Conference: %s\" % x['confName'])\n",
        "  seen.append(x)\n"
      ],
      "execution_count": 126,
      "outputs": [
        {
          "output_type": "stream",
          "text": [
            "Exact Duplicate Conference: AWS Summit Mumbai\n"
          ],
          "name": "stdout"
        }
      ]
    },
    {
      "cell_type": "markdown",
      "metadata": {
        "id": "dqJVdflxof5d",
        "colab_type": "text"
      },
      "source": [
        "Identify Semantic Duplicates\n",
        "\n"
      ]
    },
    {
      "cell_type": "code",
      "metadata": {
        "id": "aSedsm4ft6E6",
        "colab_type": "code",
        "colab": {}
      },
      "source": [
        "values=[]\n",
        "confDetails= {}\n",
        "\n",
        "for x in data['paid'] + data['free']:\n",
        "  if x['confName'] not in seen:\n",
        "    values = x['searchTerms'].split(\" , \")\n",
        "    \n",
        "    values.append(x['city'])\n",
        "    values.append(x['confStartDate'])\n",
        "    confDetails[x['confName']]=values\n",
        "\n",
        "for conf in confDetails:\n",
        "  set1= set(confDetails[conf])\n",
        "  for conf2 in confDetails:\n",
        "\n",
        "    if conf != conf2:\n",
        "      set2 =set(confDetails[conf2])\n",
        "      res = len(set2 & set1) / float(len(set1 | set2)) * 100\n",
        "      x=set1.intersection(set2)\n",
        "      if res > 30:\n",
        "        print(conf, conf2)\n"
      ],
      "execution_count": null,
      "outputs": []
    }
  ]
}